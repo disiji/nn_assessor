{
 "cells": [
  {
   "cell_type": "code",
   "execution_count": 1,
   "metadata": {
    "collapsed": false
   },
   "outputs": [
    {
     "name": "stderr",
     "output_type": "stream",
     "text": [
      "/home/disij/.local/lib/python2.7/site-packages/IPython/html.py:14: ShimWarning: The `IPython.html` package has been deprecated. You should import from `notebook` instead. `IPython.html.widgets` has moved to `ipywidgets`.\n",
      "  \"`IPython.html.widgets` has moved to `ipywidgets`.\", ShimWarning)\n"
     ]
    }
   ],
   "source": [
    "\"\"\"Bayesian neural network using variational inference\n",
    "(see, e.g., Blundell et al. (2015); Kucukelbir et al. (2016)).\n",
    "Inspired by autograd's Bayesian neural network example.\n",
    "This example prettifies some of the tensor naming for visualization in\n",
    "TensorBoard. To view TensorBoard, run `tensorboard --logdir=log`.\n",
    "References\n",
    "----------\n",
    "http://edwardlib.org/tutorials/bayesian-neural-network\n",
    "\"\"\"\n",
    "from __future__ import absolute_import\n",
    "from __future__ import division\n",
    "from __future__ import print_function\n",
    "\n",
    "import edward as ed\n",
    "import numpy as np\n",
    "import tensorflow as tf\n",
    "\n",
    "from edward.models import Normal\n",
    "\n",
    "tf.flags.DEFINE_integer(\"N\", 40, \"Number of data points.\")\n",
    "tf.flags.DEFINE_integer(\"D\", 1, \"Number of features.\")\n",
    "\n",
    "FLAGS = tf.flags.FLAGS\n",
    "\n",
    "\n",
    "def build_toy_dataset(N=40, noise_std=0.1):\n",
    "    D = 1\n",
    "    X = np.concatenate([np.linspace(0, 2, num=N / 2),\n",
    "                      np.linspace(6, 8, num=N / 2)])\n",
    "    y = np.cos(X) + np.random.normal(0, noise_std, size=N)\n",
    "    X = (X - 4.0) / 4.0\n",
    "    X = X.reshape((N, D))\n",
    "    return X, y\n",
    "\n",
    "def neural_network(X):\n",
    "    h = tf.tanh(tf.matmul(X, W_0) + b_0)\n",
    "    h = tf.tanh(tf.matmul(h, W_1) + b_1)\n",
    "    h = tf.matmul(h, W_2) + b_2\n",
    "    return tf.reshape(h, [-1])\n",
    "ed.set_seed(42)\n",
    "\n",
    "def display_draws(x_data, y_data, draw_inputs, draw_outputs, label):\n",
    "    fig = plt.figure(figsize=(10, 6))\n",
    "    ax = fig.add_subplot(111)\n",
    "    ax.plot(x_data, y_data, 'ks', alpha=0.5, label='(x, y)')\n",
    "    ax.plot(draw_inputs, draw_outputs[0].T, 'r', lw=2, alpha=0.5, label=label)\n",
    "    ax.plot(draw_inputs, draw_outputs[1:].T, 'r', lw=2, alpha=0.5)\n",
    "    ax.set_xlim([-5, 5])\n",
    "    ax.set_ylim([-2, 3])\n",
    "    ax.legend()\n",
    "    plt.show()"
   ]
  },
  {
   "cell_type": "code",
   "execution_count": 2,
   "metadata": {
    "collapsed": false
   },
   "outputs": [
    {
     "name": "stderr",
     "output_type": "stream",
     "text": [
      "/home/disij/.local/lib/python2.7/site-packages/ipykernel/__main__.py:28: DeprecationWarning: object of type <type 'float'> cannot be safely interpreted as an integer.\n",
      "/home/disij/.local/lib/python2.7/site-packages/ipykernel/__main__.py:29: DeprecationWarning: object of type <type 'float'> cannot be safely interpreted as an integer.\n"
     ]
    }
   ],
   "source": [
    "# DATA\n",
    "X_train, y_train = build_toy_dataset(FLAGS.N)\n",
    "# MODEL\n",
    "with tf.name_scope(\"model\"):\n",
    "    W_0 = Normal(loc=tf.zeros([FLAGS.D, 10]), scale=tf.ones([FLAGS.D, 10]), name=\"W_0\")\n",
    "    W_1 = Normal(loc=tf.zeros([10, 10]), scale=tf.ones([10, 10]), name=\"W_1\")\n",
    "    W_2 = Normal(loc=tf.zeros([10, 1]), scale=tf.ones([10, 1]), name=\"W_2\")\n",
    "    b_0 = Normal(loc=tf.zeros(10), scale=tf.ones(10), name=\"b_0\")\n",
    "    b_1 = Normal(loc=tf.zeros(10), scale=tf.ones(10), name=\"b_1\")\n",
    "    b_2 = Normal(loc=tf.zeros(1), scale=tf.ones(1), name=\"b_2\")\n",
    "    X = tf.placeholder(tf.float32, [FLAGS.N, FLAGS.D], name=\"X\")\n",
    "    y = Normal(loc=neural_network(X), scale=0.1 * tf.ones(FLAGS.N), name=\"y\")\n",
    "# INFERENCE\n",
    "with tf.variable_scope(\"posterior\"):\n",
    "    with tf.variable_scope(\"qW_0\"):\n",
    "        loc = tf.get_variable(\"loc\", [FLAGS.D, 10])\n",
    "        scale = tf.nn.softplus(tf.get_variable(\"scale\", [FLAGS.D, 10]))\n",
    "        qW_0 = Normal(loc=loc, scale=scale)\n",
    "    with tf.variable_scope(\"qW_1\"):\n",
    "        loc = tf.get_variable(\"loc\", [10, 10])\n",
    "        scale = tf.nn.softplus(tf.get_variable(\"scale\", [10, 10]))\n",
    "        qW_1 = Normal(loc=loc, scale=scale)\n",
    "    with tf.variable_scope(\"qW_2\"):\n",
    "        loc = tf.get_variable(\"loc\", [10, 1])\n",
    "        scale = tf.nn.softplus(tf.get_variable(\"scale\", [10, 1]))\n",
    "        qW_2 = Normal(loc=loc, scale=scale)\n",
    "    with tf.variable_scope(\"qb_0\"):\n",
    "        loc = tf.get_variable(\"loc\", [10])\n",
    "        scale = tf.nn.softplus(tf.get_variable(\"scale\", [10]))\n",
    "        qb_0 = Normal(loc=loc, scale=scale)\n",
    "    with tf.variable_scope(\"qb_1\"):\n",
    "        loc = tf.get_variable(\"loc\", [10])\n",
    "        scale = tf.nn.softplus(tf.get_variable(\"scale\", [10]))\n",
    "        qb_1 = Normal(loc=loc, scale=scale)\n",
    "    with tf.variable_scope(\"qb_2\"):\n",
    "        loc = tf.get_variable(\"loc\", [1])\n",
    "        scale = tf.nn.softplus(tf.get_variable(\"scale\", [1]))\n",
    "        qb_2 = Normal(loc=loc, scale=scale)"
   ]
  },
  {
   "cell_type": "code",
   "execution_count": 3,
   "metadata": {
    "collapsed": false
   },
   "outputs": [
    {
     "name": "stderr",
     "output_type": "stream",
     "text": [
      "/home/disij/.local/lib/python2.7/site-packages/edward/util/random_variables.py:48: FutureWarning: Conversion of the second argument of issubdtype from `float` to `np.floating` is deprecated. In future, it will be treated as `np.float64 == np.dtype(float).type`.\n",
      "  not np.issubdtype(value.dtype, np.float) and \\\n"
     ]
    },
    {
     "name": "stdout",
     "output_type": "stream",
     "text": [
      "10000/10000 [100%] ██████████████████████████████ Elapsed: 11s | Loss: 493.365\n"
     ]
    }
   ],
   "source": [
    "tf.contrib.distributions.kl = tf.contrib.distributions.kl_divergence\n",
    "inference = ed.KLqp({W_0: qW_0, b_0: qb_0,\n",
    "                   W_1: qW_1, b_1: qb_1,\n",
    "                   W_2: qW_2, b_2: qb_2}, data={X: X_train, y: y_train})\n",
    "inference.run(n_iter=10000, logdir='log')"
   ]
  },
  {
   "cell_type": "code",
   "execution_count": 4,
   "metadata": {
    "collapsed": false
   },
   "outputs": [
    {
     "ename": "TypeError",
     "evalue": "neural_network() takes exactly 1 argument (5 given)",
     "output_type": "error",
     "traceback": [
      "\u001b[1;31m---------------------------------------------------------------------------\u001b[0m",
      "\u001b[1;31mTypeError\u001b[0m                                 Traceback (most recent call last)",
      "\u001b[1;32m<ipython-input-4-4d5a1763920f>\u001b[0m in \u001b[0;36m<module>\u001b[1;34m()\u001b[0m\n\u001b[0;32m      5\u001b[0m mus = tf.stack(\n\u001b[0;32m      6\u001b[0m     [neural_network(nx, qW_0.sample(), qW_1.sample(), qb_0.sample(), qb_1.sample())\n\u001b[1;32m----> 7\u001b[1;33m      for _ in range(10)])\n\u001b[0m\u001b[0;32m      8\u001b[0m \u001b[1;33m\u001b[0m\u001b[0m\n\u001b[0;32m      9\u001b[0m \u001b[1;31m# Visualize prior draws.\u001b[0m\u001b[1;33m\u001b[0m\u001b[1;33m\u001b[0m\u001b[0m\n",
      "\u001b[1;31mTypeError\u001b[0m: neural_network() takes exactly 1 argument (5 given)"
     ]
    }
   ],
   "source": [
    "# Sample neural networks from our variational model.\n",
    "rs = np.random.RandomState(0)\n",
    "inputs = np.linspace(-5, 5, num=500, dtype=np.float32)\n",
    "nx = tf.expand_dims(inputs, 1)\n",
    "mus = tf.stack(\n",
    "    [neural_network(nx, qW_0.sample(), qW_1.sample(), qb_0.sample(), qb_1.sample())\n",
    "     for _ in range(10)])\n",
    "\n",
    "# Visualize prior draws.\n",
    "sess = ed.get_session()\n",
    "tf.global_variables_initializer().run()\n",
    "outputs = mus.eval()\n",
    "display_draws(x_train, y_train, inputs, outputs, 'prior draws')"
   ]
  },
  {
   "cell_type": "code",
   "execution_count": null,
   "metadata": {
    "collapsed": false
   },
   "outputs": [],
   "source": [
    "# Minimize the KL-divergence of our posterior approximators.\n",
    "tf.contrib.distributions.kl = tf.contrib.distributions.kl_divergence\n",
    "inference = ed.KLqp({W_0: qW_0, b_0: qb_0, W_1: qW_1, b_1: qb_1},\n",
    "                    data={x: x_train, y: y_train})\n",
    "inference.run(n_iter=5000)"
   ]
  },
  {
   "cell_type": "code",
   "execution_count": null,
   "metadata": {
    "collapsed": true
   },
   "outputs": [],
   "source": []
  },
  {
   "cell_type": "code",
   "execution_count": null,
   "metadata": {
    "collapsed": true
   },
   "outputs": [],
   "source": []
  }
 ],
 "metadata": {
  "kernelspec": {
   "display_name": "Python 2",
   "language": "python",
   "name": "python2"
  },
  "language_info": {
   "codemirror_mode": {
    "name": "ipython",
    "version": 2
   },
   "file_extension": ".py",
   "mimetype": "text/x-python",
   "name": "python",
   "nbconvert_exporter": "python",
   "pygments_lexer": "ipython2",
   "version": "2.7.5"
  }
 },
 "nbformat": 4,
 "nbformat_minor": 0
}
