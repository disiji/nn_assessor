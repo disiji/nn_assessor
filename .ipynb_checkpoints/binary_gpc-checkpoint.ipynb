{
 "cells": [
  {
   "cell_type": "code",
   "execution_count": null,
   "metadata": {
    "collapsed": true
   },
   "outputs": [],
   "source": [
    "import numpy as np\n",
    "import torch\n",
    "import GPy\n",
    "from sklearn.gaussian_process import GaussianProcessRegressor\n",
    "from sklearn.gaussian_process.kernels import RBF, DotProduct, ConstantKernel as C\n",
    "from sklearn.gaussian_process import GaussianProcessClassifier\n",
    "from visualize import *\n",
    "from calibration import *\n",
    "import warnings\n",
    "warnings.filterwarnings(\"ignore\")\n",
    "from IPython.display import display\n",
    "%matplotlib inline\n",
    "\n",
    "NUM_BINS = 10\n",
    "N = 2000 # takes value from 1 to 10000\n",
    "NUM_CLASSES =  100\n",
    "NUM_CLASSES_PLOT = 9\n",
    "NUM_COL = 3\n",
    "METHOD_NAME = \"binary_gpc\""
   ]
  },
  {
   "cell_type": "code",
   "execution_count": null,
   "metadata": {
    "collapsed": true
   },
   "outputs": [],
   "source": [
    "# Load prediction from ResNet on CIFAR100 test data, which contains 10,000 images. \n",
    "# https://github.com/rloganiv/pytorch-classification/blob/master/predict.py\n",
    "# data: a numpy array of size 10,000 * 101. For each row, the first entry is the true label,\n",
    "#       following by softmax of output logits of this image for each class.\n",
    "data = np.genfromtxt(\"data/cifar100_predictions_dropout.txt\")[0:N,:]# 10000*101"
   ]
  },
  {
   "cell_type": "code",
   "execution_count": null,
   "metadata": {
    "collapsed": true
   },
   "outputs": [],
   "source": [
    "p = data[:,1:]\n",
    "Y_predict = np.argmax(p, axis=1)\n",
    "Y_true = data[:,0]"
   ]
  },
  {
   "cell_type": "markdown",
   "metadata": {},
   "source": [
    "# Fit GPC to each class"
   ]
  },
  {
   "cell_type": "code",
   "execution_count": null,
   "metadata": {
    "collapsed": false,
    "scrolled": false
   },
   "outputs": [],
   "source": [
    "# GPC with sklearn\n",
    "KERNELS = [RBF(0.1, (0.05, 1)), \n",
    "           RBF(0.1, (0.05, 1)) + 10**2 * RBF(1), \n",
    "           RBF(0.1, (0.05, 1)) + 10**2 * RBF(1) + 100.0 * DotProduct(sigma_0=1.0)]\n",
    "for kernel in KERNELS:\n",
    "    f, ax = plt.subplots(NUM_CLASSES_PLOT/NUM_COL, NUM_COL, sharex='col', sharey='row')\n",
    "    f.set_figheight(10)\n",
    "    f.set_figwidth(10)\n",
    "    for K in range(NUM_CLASSES_PLOT):\n",
    "        ax[K/NUM_COL, K%NUM_COL] = gpc_sklearn(ax[K/NUM_COL, K%NUM_COL],\n",
    "                                                 p[:,K],\n",
    "                                                 np.array((Y_true == K)) * 1,\n",
    "                                                 kernel)\n",
    "    f.tight_layout()\n",
    "    #f.savefig(\"figures/%s/reliability_per_class.png\" % METHOD_NAME)\n",
    "    #f.savefig(\"figures/%s/reliability_per_class.eps\" % METHOD_NAME, format='eps',dpi=1000)\n",
    "    #plt.legend(('Data', 'Isotonic Fit', 'Linear Fit'), loc='lower right')"
   ]
  },
  {
   "cell_type": "code",
   "execution_count": null,
   "metadata": {
    "collapsed": false,
    "scrolled": false
   },
   "outputs": [],
   "source": [
    "# GPC with GPy\n",
    "KERNELS = [None, GPy.kern.RBF(1,variance=5.,lengthscale=0.1) + GPy.kern.Linear(1)]\n",
    "for kernel in KERNELS:\n",
    "    f, ax = plt.subplots(NUM_CLASSES_PLOT/NUM_COL, NUM_COL, sharex='col', sharey='row')\n",
    "    f.set_figheight(10)\n",
    "    f.set_figwidth(10)\n",
    "    \n",
    "    for K in range(NUM_CLASSES_PLOT):\n",
    "        ax[K/NUM_COL, K%NUM_COL] = gpc_gpy(ax[K/NUM_COL, K%NUM_COL],\n",
    "                                                 p[:,K],\n",
    "                                                 np.array((Y_true == K)) * 1,\n",
    "                                                 kernel)\n",
    "    f.tight_layout()\n",
    "    #f.savefig(\"figures/%s/reliability_per_class.png\" % METHOD_NAME)\n",
    "    #f.savefig(\"figures/%s/reliability_per_class.eps\" % METHOD_NAME, format='eps',dpi=1000)\n",
    "    #plt.legend(('Data', 'Isotonic Fit', 'Linear Fit'), loc='lower right')"
   ]
  },
  {
   "cell_type": "code",
   "execution_count": null,
   "metadata": {
    "collapsed": true
   },
   "outputs": [],
   "source": []
  }
 ],
 "metadata": {
  "kernelspec": {
   "display_name": "Python 2",
   "language": "python",
   "name": "python2"
  },
  "language_info": {
   "codemirror_mode": {
    "name": "ipython",
    "version": 2
   },
   "file_extension": ".py",
   "mimetype": "text/x-python",
   "name": "python",
   "nbconvert_exporter": "python",
   "pygments_lexer": "ipython2",
   "version": "2.7.5"
  }
 },
 "nbformat": 4,
 "nbformat_minor": 0
}
