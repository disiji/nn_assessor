{
 "cells": [
  {
   "cell_type": "code",
   "execution_count": 1,
   "metadata": {
    "collapsed": true
   },
   "outputs": [],
   "source": [
    "import numpy as np\n",
    "import torch\n",
    "from temperature_scaling import _ECELoss\n",
    "from visualize import *\n",
    "from calibration import *\n",
    "import warnings\n",
    "warnings.filterwarnings(\"ignore\")\n",
    "%matplotlib inline\n",
    "\n",
    "NUM_BINS = 10\n",
    "N = 10000 # takes value from 1 to 10000\n",
    "NUM_CLASSES =  100\n",
    "NUM_CLASSES_PLOT = 100\n",
    "NUM_COL = 10\n",
    "METHOD_NAME = \"binary_gp\""
   ]
  },
  {
   "cell_type": "code",
   "execution_count": 2,
   "metadata": {
    "collapsed": true
   },
   "outputs": [],
   "source": [
    "# Load prediction from ResNet on CIFAR100 test data, which contains 10,000 images. \n",
    "# https://github.com/rloganiv/pytorch-classification/blob/master/predict.py\n",
    "# data: a numpy array of size 10,000 * 101. For each row, the first entry is the true label,\n",
    "#       following by softmax of output logits of this image for each class.\n",
    "data = np.genfromtxt(\"data/cifar100_predictions_dropout.txt\")[0:N,:]# 10000*101"
   ]
  },
  {
   "cell_type": "code",
   "execution_count": 3,
   "metadata": {
    "collapsed": true
   },
   "outputs": [],
   "source": [
    "p = data[:,1:]\n",
    "Y_predict = np.argmax(p, axis=1)\n",
    "Y_true = data[:,0]"
   ]
  },
  {
   "cell_type": "markdown",
   "metadata": {},
   "source": [
    "# Fit GP to each class"
   ]
  },
  {
   "cell_type": "code",
   "execution_count": null,
   "metadata": {
    "collapsed": true
   },
   "outputs": [],
   "source": []
  }
 ],
 "metadata": {
  "kernelspec": {
   "display_name": "Python 2",
   "language": "python",
   "name": "python2"
  },
  "language_info": {
   "codemirror_mode": {
    "name": "ipython",
    "version": 2
   },
   "file_extension": ".py",
   "mimetype": "text/x-python",
   "name": "python",
   "nbconvert_exporter": "python",
   "pygments_lexer": "ipython2",
   "version": "2.7.5"
  }
 },
 "nbformat": 4,
 "nbformat_minor": 0
}
