{
 "cells": [
  {
   "cell_type": "code",
   "execution_count": 1,
   "metadata": {
    "collapsed": true
   },
   "outputs": [],
   "source": [
    "from __future__ import division\n",
    "import matplotlib\n",
    "import numpy as np\n",
    "import matplotlib.pyplot as plt\n",
    "from scipy import stats\n",
    "%matplotlib inline\n",
    "\n",
    "NUM_BINS = 10\n",
    "VAR = 0.01 # takes value from (0, 0.25)"
   ]
  },
  {
   "cell_type": "code",
   "execution_count": 2,
   "metadata": {
    "collapsed": false
   },
   "outputs": [
    {
     "name": "stdout",
     "output_type": "stream",
     "text": [
      "0.840096000974\n",
      "0.7414\n"
     ]
    }
   ],
   "source": [
    "# Load prediction from ResNet on CIFAR100 test data, which contains 10,000 images. \n",
    "# https://github.com/rloganiv/pytorch-classification/blob/master/predict.py\n",
    "# data: a numpy array of size 10,000 * 101. For each row, the first entry is the true label,\n",
    "#       following by softmax of output logits of this image for each class.\n",
    "data = np.genfromtxt(\"cifar100_predictions_dropout.txt\")# 10000*101\n",
    "probabilities = data[:,1:]\n",
    "confidence = np.max(probabilities, axis=1)\n",
    "Y_predict = np.argmax(probabilities, axis=1)\n",
    "Y_true = data[:,0]\n",
    "\n",
    "bins = np.linspace(0, 1, NUM_BINS+1)\n",
    "digitized = np.digitize(confidence, bins)-1\n",
    "\n",
    "print(confidence.mean())\n",
    "print (Y_predict == Y_true).mean()"
   ]
  },
  {
   "cell_type": "markdown",
   "metadata": {},
   "source": [
    "**Choose prior for each bin**\n",
    "\n",
    "For each bin of reliability diagram, the prior distribution is a Beta distribution"
   ]
  },
  {
   "cell_type": "code",
   "execution_count": 3,
   "metadata": {
    "collapsed": false
   },
   "outputs": [],
   "source": [
    "def BetaParams(mu, var):\n",
    "    \"\"\"\n",
    "    Compute parameters of Beta distribution given mean and variance.\n",
    "    \"\"\"\n",
    "    alpha = ((1 - mu) / var - 1 / mu) * mu ** 2\n",
    "    beta = alpha * (1 / mu - 1)\n",
    "    return alpha, beta"
   ]
  },
  {
   "cell_type": "code",
   "execution_count": 4,
   "metadata": {
    "collapsed": false
   },
   "outputs": [],
   "source": [
    "BetaPriors = np.array([BetaParams((i+0.5)/NUM_BINS,VAR) for i in range(NUM_BINS)])\n",
    "Counts = np.array([(((Y_predict[digitized==i])==(Y_true[digitized==i])).sum(),\n",
    "           ((Y_predict[digitized==i])!=(Y_true[digitized==i])).sum())\n",
    "          for i in range(NUM_BINS)])\n",
    "BetaPosteriors = BetaPriors + Counts"
   ]
  },
  {
   "cell_type": "code",
   "execution_count": 5,
   "metadata": {
    "collapsed": false
   },
   "outputs": [],
   "source": [
    "BetaPosteriorsMean = np.array([BetaPosteriors[i,0]/(BetaPosteriors[i].sum()) \n",
    "                               for i in range(NUM_BINS)])\n",
    "BetaPosteriorP025 = np.array([stats.beta.ppf(0.025,BetaPosteriors[i,0], BetaPosteriors[i,1]) \n",
    "                                 for i in range(NUM_BINS)])\n",
    "BetaPosteriorP975 = np.array([stats.beta.ppf(0.975,BetaPosteriors[i,0], BetaPosteriors[i,1]) \n",
    "                                 for i in range(NUM_BINS)])"
   ]
  },
  {
   "cell_type": "code",
   "execution_count": 6,
   "metadata": {
    "collapsed": false
   },
   "outputs": [
    {
     "name": "stderr",
     "output_type": "stream",
     "text": [
      "/home/disij/.local/lib/python2.7/site-packages/ipykernel/__main__.py:1: RuntimeWarning: Mean of empty slice.\n",
      "  if __name__ == '__main__':\n",
      "/home/disij/.local/lib/python2.7/site-packages/numpy/core/_methods.py:80: RuntimeWarning: invalid value encountered in double_scalars\n",
      "  ret = ret.dtype.type(ret / rcount)\n",
      "/home/disij/.local/lib/python2.7/site-packages/ipykernel/__main__.py:3: RuntimeWarning: Mean of empty slice.\n",
      "  app.launch_new_instance()\n"
     ]
    }
   ],
   "source": [
    "confidence_bins = [confidence[digitized==i].mean() for i in range(NUM_BINS)]\n",
    "accuracy_bins = [(Y_predict[digitized==i]==Y_true[digitized==i]).mean() \n",
    "                                              for i in range(NUM_BINS)]"
   ]
  },
  {
   "cell_type": "code",
   "execution_count": 7,
   "metadata": {
    "collapsed": false
   },
   "outputs": [
    {
     "data": {
      "text/plain": [
       "<matplotlib.text.Text at 0x7fe3db857850>"
      ]
     },
     "execution_count": 7,
     "metadata": {},
     "output_type": "execute_result"
    },
    {
     "data": {
      "image/png": "[encoded data removed]",
      "text/plain": [
       "<matplotlib.figure.Figure at 0x7fe3e1e45a90>"
      ]
     },
     "metadata": {},
     "output_type": "display_data"
    }
   ],
   "source": [
    "plt.figure(figsize=(4,4))\n",
    "plt.grid(True)\n",
    "plt.xticks(range(NUM_BINS+1), [\"%.1f\" % i for  i in bins])\n",
    "plt.bar(range(NUM_BINS),confidence_bins,color='r',width=1.0,label=\"Confidence\",alpha=0.5)\n",
    "plt.bar(range(NUM_BINS),accuracy_bins,color='b',width=1.0,label=\"Accuracy\")\n",
    "plt.errorbar([i+0.5 for i in range(NUM_BINS)],\n",
    "             BetaPosteriorsMean,\n",
    "             yerr=(BetaPosteriorsMean-BetaPosteriorP025,BetaPosteriorP975-BetaPosteriorsMean),\n",
    "             fmt='o', color = 'g')\n",
    "plt.plot(np.linspace(0, 1, 11),linestyle=\":\")\n",
    "plt.legend(loc='upper left')\n",
    "plt.xlabel(\"Confidence\")\n",
    "plt.ylabel(\"Accuracy\")"
   ]
  },
  {
   "cell_type": "code",
   "execution_count": null,
   "metadata": {
    "collapsed": true
   },
   "outputs": [],
   "source": []
  }
 ],
 "metadata": {
  "kernelspec": {
   "display_name": "Python 2",
   "language": "python",
   "name": "python2"
  },
  "language_info": {
   "codemirror_mode": {
    "name": "ipython",
    "version": 2
   },
   "file_extension": ".py",
   "mimetype": "text/x-python",
   "name": "python",
   "nbconvert_exporter": "python",
   "pygments_lexer": "ipython2",
   "version": "2.7.5"
  }
 },
 "nbformat": 4,
 "nbformat_minor": 0
}
